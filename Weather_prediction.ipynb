{
  "cells": [
    {
      "cell_type": "code",
      "execution_count": null,
      "metadata": {
        "id": "UTBfNvCUUWwN"
      },
      "outputs": [],
      "source": [
        "import numpy as np\n",
        "from keras.models import Sequential\n",
        "from keras.layers import SimpleRNN, Dense, Activation, LSTM, GRU\n",
        "from keras.callbacks import EarlyStopping\n",
        "from keras.optimizers import RMSprop\n",
        "from keras.metrics import RootMeanSquaredError\n",
        "from sklearn.metrics import mean_squared_error, r2_score\n",
        "import matplotlib.pyplot as plt\n",
        "from google.colab import files\n",
        "import io\n",
        "import pandas as pd\n",
        "import scipy.stats"
      ]
    },
    {
      "cell_type": "code",
      "execution_count": null,
      "metadata": {
        "colab": {
          "base_uri": "https://localhost:8080/",
          "height": 73
        },
        "id": "osFqIE6hUc9j",
        "outputId": "284e6c6d-4c2a-4941-93c7-abcd31c019a9"
      },
      "outputs": [
        {
          "data": {
            "text/html": [
              "\n",
              "     <input type=\"file\" id=\"files-b0d17918-933c-4d44-98be-45986bd854bb\" name=\"files[]\" multiple disabled\n",
              "        style=\"border:none\" />\n",
              "     <output id=\"result-b0d17918-933c-4d44-98be-45986bd854bb\">\n",
              "      Upload widget is only available when the cell has been executed in the\n",
              "      current browser session. Please rerun this cell to enable.\n",
              "      </output>\n",
              "      <script>// Copyright 2017 Google LLC\n",
              "//\n",
              "// Licensed under the Apache License, Version 2.0 (the \"License\");\n",
              "// you may not use this file except in compliance with the License.\n",
              "// You may obtain a copy of the License at\n",
              "//\n",
              "//      http://www.apache.org/licenses/LICENSE-2.0\n",
              "//\n",
              "// Unless required by applicable law or agreed to in writing, software\n",
              "// distributed under the License is distributed on an \"AS IS\" BASIS,\n",
              "// WITHOUT WARRANTIES OR CONDITIONS OF ANY KIND, either express or implied.\n",
              "// See the License for the specific language governing permissions and\n",
              "// limitations under the License.\n",
              "\n",
              "/**\n",
              " * @fileoverview Helpers for google.colab Python module.\n",
              " */\n",
              "(function(scope) {\n",
              "function span(text, styleAttributes = {}) {\n",
              "  const element = document.createElement('span');\n",
              "  element.textContent = text;\n",
              "  for (const key of Object.keys(styleAttributes)) {\n",
              "    element.style[key] = styleAttributes[key];\n",
              "  }\n",
              "  return element;\n",
              "}\n",
              "\n",
              "// Max number of bytes which will be uploaded at a time.\n",
              "const MAX_PAYLOAD_SIZE = 100 * 1024;\n",
              "\n",
              "function _uploadFiles(inputId, outputId) {\n",
              "  const steps = uploadFilesStep(inputId, outputId);\n",
              "  const outputElement = document.getElementById(outputId);\n",
              "  // Cache steps on the outputElement to make it available for the next call\n",
              "  // to uploadFilesContinue from Python.\n",
              "  outputElement.steps = steps;\n",
              "\n",
              "  return _uploadFilesContinue(outputId);\n",
              "}\n",
              "\n",
              "// This is roughly an async generator (not supported in the browser yet),\n",
              "// where there are multiple asynchronous steps and the Python side is going\n",
              "// to poll for completion of each step.\n",
              "// This uses a Promise to block the python side on completion of each step,\n",
              "// then passes the result of the previous step as the input to the next step.\n",
              "function _uploadFilesContinue(outputId) {\n",
              "  const outputElement = document.getElementById(outputId);\n",
              "  const steps = outputElement.steps;\n",
              "\n",
              "  const next = steps.next(outputElement.lastPromiseValue);\n",
              "  return Promise.resolve(next.value.promise).then((value) => {\n",
              "    // Cache the last promise value to make it available to the next\n",
              "    // step of the generator.\n",
              "    outputElement.lastPromiseValue = value;\n",
              "    return next.value.response;\n",
              "  });\n",
              "}\n",
              "\n",
              "/**\n",
              " * Generator function which is called between each async step of the upload\n",
              " * process.\n",
              " * @param {string} inputId Element ID of the input file picker element.\n",
              " * @param {string} outputId Element ID of the output display.\n",
              " * @return {!Iterable<!Object>} Iterable of next steps.\n",
              " */\n",
              "function* uploadFilesStep(inputId, outputId) {\n",
              "  const inputElement = document.getElementById(inputId);\n",
              "  inputElement.disabled = false;\n",
              "\n",
              "  const outputElement = document.getElementById(outputId);\n",
              "  outputElement.innerHTML = '';\n",
              "\n",
              "  const pickedPromise = new Promise((resolve) => {\n",
              "    inputElement.addEventListener('change', (e) => {\n",
              "      resolve(e.target.files);\n",
              "    });\n",
              "  });\n",
              "\n",
              "  const cancel = document.createElement('button');\n",
              "  inputElement.parentElement.appendChild(cancel);\n",
              "  cancel.textContent = 'Cancel upload';\n",
              "  const cancelPromise = new Promise((resolve) => {\n",
              "    cancel.onclick = () => {\n",
              "      resolve(null);\n",
              "    };\n",
              "  });\n",
              "\n",
              "  // Wait for the user to pick the files.\n",
              "  const files = yield {\n",
              "    promise: Promise.race([pickedPromise, cancelPromise]),\n",
              "    response: {\n",
              "      action: 'starting',\n",
              "    }\n",
              "  };\n",
              "\n",
              "  cancel.remove();\n",
              "\n",
              "  // Disable the input element since further picks are not allowed.\n",
              "  inputElement.disabled = true;\n",
              "\n",
              "  if (!files) {\n",
              "    return {\n",
              "      response: {\n",
              "        action: 'complete',\n",
              "      }\n",
              "    };\n",
              "  }\n",
              "\n",
              "  for (const file of files) {\n",
              "    const li = document.createElement('li');\n",
              "    li.append(span(file.name, {fontWeight: 'bold'}));\n",
              "    li.append(span(\n",
              "        `(${file.type || 'n/a'}) - ${file.size} bytes, ` +\n",
              "        `last modified: ${\n",
              "            file.lastModifiedDate ? file.lastModifiedDate.toLocaleDateString() :\n",
              "                                    'n/a'} - `));\n",
              "    const percent = span('0% done');\n",
              "    li.appendChild(percent);\n",
              "\n",
              "    outputElement.appendChild(li);\n",
              "\n",
              "    const fileDataPromise = new Promise((resolve) => {\n",
              "      const reader = new FileReader();\n",
              "      reader.onload = (e) => {\n",
              "        resolve(e.target.result);\n",
              "      };\n",
              "      reader.readAsArrayBuffer(file);\n",
              "    });\n",
              "    // Wait for the data to be ready.\n",
              "    let fileData = yield {\n",
              "      promise: fileDataPromise,\n",
              "      response: {\n",
              "        action: 'continue',\n",
              "      }\n",
              "    };\n",
              "\n",
              "    // Use a chunked sending to avoid message size limits. See b/62115660.\n",
              "    let position = 0;\n",
              "    do {\n",
              "      const length = Math.min(fileData.byteLength - position, MAX_PAYLOAD_SIZE);\n",
              "      const chunk = new Uint8Array(fileData, position, length);\n",
              "      position += length;\n",
              "\n",
              "      const base64 = btoa(String.fromCharCode.apply(null, chunk));\n",
              "      yield {\n",
              "        response: {\n",
              "          action: 'append',\n",
              "          file: file.name,\n",
              "          data: base64,\n",
              "        },\n",
              "      };\n",
              "\n",
              "      let percentDone = fileData.byteLength === 0 ?\n",
              "          100 :\n",
              "          Math.round((position / fileData.byteLength) * 100);\n",
              "      percent.textContent = `${percentDone}% done`;\n",
              "\n",
              "    } while (position < fileData.byteLength);\n",
              "  }\n",
              "\n",
              "  // All done.\n",
              "  yield {\n",
              "    response: {\n",
              "      action: 'complete',\n",
              "    }\n",
              "  };\n",
              "}\n",
              "\n",
              "scope.google = scope.google || {};\n",
              "scope.google.colab = scope.google.colab || {};\n",
              "scope.google.colab._files = {\n",
              "  _uploadFiles,\n",
              "  _uploadFilesContinue,\n",
              "};\n",
              "})(self);\n",
              "</script> "
            ],
            "text/plain": [
              "<IPython.core.display.HTML object>"
            ]
          },
          "metadata": {},
          "output_type": "display_data"
        },
        {
          "name": "stdout",
          "output_type": "stream",
          "text": [
            "Saving temperature.csv to temperature.csv\n"
          ]
        }
      ],
      "source": [
        "uploaded = files.upload()\n",
        "df2 = pd.read_csv(io.BytesIO(uploaded['temperature.csv']))"
      ]
    },
    {
      "cell_type": "code",
      "execution_count": null,
      "metadata": {
        "colab": {
          "base_uri": "https://localhost:8080/",
          "height": 490
        },
        "id": "bx99RFJwUhvP",
        "outputId": "0d88790f-d4fa-47c9-cab0-d20e174edd5e"
      },
      "outputs": [
        {
          "data": {
            "text/html": [
              "\n",
              "  <div id=\"df-d872e68c-d162-4f4c-8fe9-ad9e4c5cf155\">\n",
              "    <div class=\"colab-df-container\">\n",
              "      <div>\n",
              "<style scoped>\n",
              "    .dataframe tbody tr th:only-of-type {\n",
              "        vertical-align: middle;\n",
              "    }\n",
              "\n",
              "    .dataframe tbody tr th {\n",
              "        vertical-align: top;\n",
              "    }\n",
              "\n",
              "    .dataframe thead th {\n",
              "        text-align: right;\n",
              "    }\n",
              "</style>\n",
              "<table border=\"1\" class=\"dataframe\">\n",
              "  <thead>\n",
              "    <tr style=\"text-align: right;\">\n",
              "      <th></th>\n",
              "      <th>datetime</th>\n",
              "      <th>Vancouver</th>\n",
              "      <th>Portland</th>\n",
              "      <th>San Francisco</th>\n",
              "      <th>Seattle</th>\n",
              "      <th>Los Angeles</th>\n",
              "      <th>San Diego</th>\n",
              "      <th>Las Vegas</th>\n",
              "      <th>Phoenix</th>\n",
              "      <th>Albuquerque</th>\n",
              "      <th>...</th>\n",
              "      <th>Philadelphia</th>\n",
              "      <th>New York</th>\n",
              "      <th>Montreal</th>\n",
              "      <th>Boston</th>\n",
              "      <th>Beersheba</th>\n",
              "      <th>Tel Aviv District</th>\n",
              "      <th>Eilat</th>\n",
              "      <th>Haifa</th>\n",
              "      <th>Nahariyya</th>\n",
              "      <th>Jerusalem</th>\n",
              "    </tr>\n",
              "  </thead>\n",
              "  <tbody>\n",
              "    <tr>\n",
              "      <th>0</th>\n",
              "      <td>2012-10-01 12:00:00</td>\n",
              "      <td>NaN</td>\n",
              "      <td>NaN</td>\n",
              "      <td>NaN</td>\n",
              "      <td>NaN</td>\n",
              "      <td>NaN</td>\n",
              "      <td>NaN</td>\n",
              "      <td>NaN</td>\n",
              "      <td>NaN</td>\n",
              "      <td>NaN</td>\n",
              "      <td>...</td>\n",
              "      <td>NaN</td>\n",
              "      <td>NaN</td>\n",
              "      <td>NaN</td>\n",
              "      <td>NaN</td>\n",
              "      <td>NaN</td>\n",
              "      <td>NaN</td>\n",
              "      <td>309.100000</td>\n",
              "      <td>NaN</td>\n",
              "      <td>NaN</td>\n",
              "      <td>NaN</td>\n",
              "    </tr>\n",
              "    <tr>\n",
              "      <th>1</th>\n",
              "      <td>2012-10-01 13:00:00</td>\n",
              "      <td>284.630000</td>\n",
              "      <td>282.080000</td>\n",
              "      <td>289.480000</td>\n",
              "      <td>281.800000</td>\n",
              "      <td>291.870000</td>\n",
              "      <td>291.530000</td>\n",
              "      <td>293.410000</td>\n",
              "      <td>296.600000</td>\n",
              "      <td>285.120000</td>\n",
              "      <td>...</td>\n",
              "      <td>285.630000</td>\n",
              "      <td>288.220000</td>\n",
              "      <td>285.830000</td>\n",
              "      <td>287.170000</td>\n",
              "      <td>307.590000</td>\n",
              "      <td>305.470000</td>\n",
              "      <td>310.580000</td>\n",
              "      <td>304.4</td>\n",
              "      <td>304.4</td>\n",
              "      <td>303.5</td>\n",
              "    </tr>\n",
              "    <tr>\n",
              "      <th>2</th>\n",
              "      <td>2012-10-01 14:00:00</td>\n",
              "      <td>284.629041</td>\n",
              "      <td>282.083252</td>\n",
              "      <td>289.474993</td>\n",
              "      <td>281.797217</td>\n",
              "      <td>291.868186</td>\n",
              "      <td>291.533501</td>\n",
              "      <td>293.403141</td>\n",
              "      <td>296.608509</td>\n",
              "      <td>285.154558</td>\n",
              "      <td>...</td>\n",
              "      <td>285.663208</td>\n",
              "      <td>288.247676</td>\n",
              "      <td>285.834650</td>\n",
              "      <td>287.186092</td>\n",
              "      <td>307.590000</td>\n",
              "      <td>304.310000</td>\n",
              "      <td>310.495769</td>\n",
              "      <td>304.4</td>\n",
              "      <td>304.4</td>\n",
              "      <td>303.5</td>\n",
              "    </tr>\n",
              "    <tr>\n",
              "      <th>3</th>\n",
              "      <td>2012-10-01 15:00:00</td>\n",
              "      <td>284.626998</td>\n",
              "      <td>282.091866</td>\n",
              "      <td>289.460618</td>\n",
              "      <td>281.789833</td>\n",
              "      <td>291.862844</td>\n",
              "      <td>291.543355</td>\n",
              "      <td>293.392177</td>\n",
              "      <td>296.631487</td>\n",
              "      <td>285.233952</td>\n",
              "      <td>...</td>\n",
              "      <td>285.756824</td>\n",
              "      <td>288.326940</td>\n",
              "      <td>285.847790</td>\n",
              "      <td>287.231672</td>\n",
              "      <td>307.391513</td>\n",
              "      <td>304.281841</td>\n",
              "      <td>310.411538</td>\n",
              "      <td>304.4</td>\n",
              "      <td>304.4</td>\n",
              "      <td>303.5</td>\n",
              "    </tr>\n",
              "    <tr>\n",
              "      <th>4</th>\n",
              "      <td>2012-10-01 16:00:00</td>\n",
              "      <td>284.624955</td>\n",
              "      <td>282.100481</td>\n",
              "      <td>289.446243</td>\n",
              "      <td>281.782449</td>\n",
              "      <td>291.857503</td>\n",
              "      <td>291.553209</td>\n",
              "      <td>293.381213</td>\n",
              "      <td>296.654466</td>\n",
              "      <td>285.313345</td>\n",
              "      <td>...</td>\n",
              "      <td>285.850440</td>\n",
              "      <td>288.406203</td>\n",
              "      <td>285.860929</td>\n",
              "      <td>287.277251</td>\n",
              "      <td>307.145200</td>\n",
              "      <td>304.238015</td>\n",
              "      <td>310.327308</td>\n",
              "      <td>304.4</td>\n",
              "      <td>304.4</td>\n",
              "      <td>303.5</td>\n",
              "    </tr>\n",
              "  </tbody>\n",
              "</table>\n",
              "<p>5 rows × 37 columns</p>\n",
              "</div>\n",
              "      <button class=\"colab-df-convert\" onclick=\"convertToInteractive('df-d872e68c-d162-4f4c-8fe9-ad9e4c5cf155')\"\n",
              "              title=\"Convert this dataframe to an interactive table.\"\n",
              "              style=\"display:none;\">\n",
              "        \n",
              "  <svg xmlns=\"http://www.w3.org/2000/svg\" height=\"24px\"viewBox=\"0 0 24 24\"\n",
              "       width=\"24px\">\n",
              "    <path d=\"M0 0h24v24H0V0z\" fill=\"none\"/>\n",
              "    <path d=\"M18.56 5.44l.94 2.06.94-2.06 2.06-.94-2.06-.94-.94-2.06-.94 2.06-2.06.94zm-11 1L8.5 8.5l.94-2.06 2.06-.94-2.06-.94L8.5 2.5l-.94 2.06-2.06.94zm10 10l.94 2.06.94-2.06 2.06-.94-2.06-.94-.94-2.06-.94 2.06-2.06.94z\"/><path d=\"M17.41 7.96l-1.37-1.37c-.4-.4-.92-.59-1.43-.59-.52 0-1.04.2-1.43.59L10.3 9.45l-7.72 7.72c-.78.78-.78 2.05 0 2.83L4 21.41c.39.39.9.59 1.41.59.51 0 1.02-.2 1.41-.59l7.78-7.78 2.81-2.81c.8-.78.8-2.07 0-2.86zM5.41 20L4 18.59l7.72-7.72 1.47 1.35L5.41 20z\"/>\n",
              "  </svg>\n",
              "      </button>\n",
              "      \n",
              "  <style>\n",
              "    .colab-df-container {\n",
              "      display:flex;\n",
              "      flex-wrap:wrap;\n",
              "      gap: 12px;\n",
              "    }\n",
              "\n",
              "    .colab-df-convert {\n",
              "      background-color: #E8F0FE;\n",
              "      border: none;\n",
              "      border-radius: 50%;\n",
              "      cursor: pointer;\n",
              "      display: none;\n",
              "      fill: #1967D2;\n",
              "      height: 32px;\n",
              "      padding: 0 0 0 0;\n",
              "      width: 32px;\n",
              "    }\n",
              "\n",
              "    .colab-df-convert:hover {\n",
              "      background-color: #E2EBFA;\n",
              "      box-shadow: 0px 1px 2px rgba(60, 64, 67, 0.3), 0px 1px 3px 1px rgba(60, 64, 67, 0.15);\n",
              "      fill: #174EA6;\n",
              "    }\n",
              "\n",
              "    [theme=dark] .colab-df-convert {\n",
              "      background-color: #3B4455;\n",
              "      fill: #D2E3FC;\n",
              "    }\n",
              "\n",
              "    [theme=dark] .colab-df-convert:hover {\n",
              "      background-color: #434B5C;\n",
              "      box-shadow: 0px 1px 3px 1px rgba(0, 0, 0, 0.15);\n",
              "      filter: drop-shadow(0px 1px 2px rgba(0, 0, 0, 0.3));\n",
              "      fill: #FFFFFF;\n",
              "    }\n",
              "  </style>\n",
              "\n",
              "      <script>\n",
              "        const buttonEl =\n",
              "          document.querySelector('#df-d872e68c-d162-4f4c-8fe9-ad9e4c5cf155 button.colab-df-convert');\n",
              "        buttonEl.style.display =\n",
              "          google.colab.kernel.accessAllowed ? 'block' : 'none';\n",
              "\n",
              "        async function convertToInteractive(key) {\n",
              "          const element = document.querySelector('#df-d872e68c-d162-4f4c-8fe9-ad9e4c5cf155');\n",
              "          const dataTable =\n",
              "            await google.colab.kernel.invokeFunction('convertToInteractive',\n",
              "                                                     [key], {});\n",
              "          if (!dataTable) return;\n",
              "\n",
              "          const docLinkHtml = 'Like what you see? Visit the ' +\n",
              "            '<a target=\"_blank\" href=https://colab.research.google.com/notebooks/data_table.ipynb>data table notebook</a>'\n",
              "            + ' to learn more about interactive tables.';\n",
              "          element.innerHTML = '';\n",
              "          dataTable['output_type'] = 'display_data';\n",
              "          await google.colab.output.renderOutput(dataTable, element);\n",
              "          const docLink = document.createElement('div');\n",
              "          docLink.innerHTML = docLinkHtml;\n",
              "          element.appendChild(docLink);\n",
              "        }\n",
              "      </script>\n",
              "    </div>\n",
              "  </div>\n",
              "  "
            ],
            "text/plain": [
              "              datetime   Vancouver    Portland  San Francisco     Seattle  \\\n",
              "0  2012-10-01 12:00:00         NaN         NaN            NaN         NaN   \n",
              "1  2012-10-01 13:00:00  284.630000  282.080000     289.480000  281.800000   \n",
              "2  2012-10-01 14:00:00  284.629041  282.083252     289.474993  281.797217   \n",
              "3  2012-10-01 15:00:00  284.626998  282.091866     289.460618  281.789833   \n",
              "4  2012-10-01 16:00:00  284.624955  282.100481     289.446243  281.782449   \n",
              "\n",
              "   Los Angeles   San Diego   Las Vegas     Phoenix  Albuquerque  ...  \\\n",
              "0          NaN         NaN         NaN         NaN          NaN  ...   \n",
              "1   291.870000  291.530000  293.410000  296.600000   285.120000  ...   \n",
              "2   291.868186  291.533501  293.403141  296.608509   285.154558  ...   \n",
              "3   291.862844  291.543355  293.392177  296.631487   285.233952  ...   \n",
              "4   291.857503  291.553209  293.381213  296.654466   285.313345  ...   \n",
              "\n",
              "   Philadelphia    New York    Montreal      Boston   Beersheba  \\\n",
              "0           NaN         NaN         NaN         NaN         NaN   \n",
              "1    285.630000  288.220000  285.830000  287.170000  307.590000   \n",
              "2    285.663208  288.247676  285.834650  287.186092  307.590000   \n",
              "3    285.756824  288.326940  285.847790  287.231672  307.391513   \n",
              "4    285.850440  288.406203  285.860929  287.277251  307.145200   \n",
              "\n",
              "   Tel Aviv District       Eilat  Haifa  Nahariyya  Jerusalem  \n",
              "0                NaN  309.100000    NaN        NaN        NaN  \n",
              "1         305.470000  310.580000  304.4      304.4      303.5  \n",
              "2         304.310000  310.495769  304.4      304.4      303.5  \n",
              "3         304.281841  310.411538  304.4      304.4      303.5  \n",
              "4         304.238015  310.327308  304.4      304.4      303.5  \n",
              "\n",
              "[5 rows x 37 columns]"
            ]
          },
          "execution_count": 4,
          "metadata": {},
          "output_type": "execute_result"
        }
      ],
      "source": [
        "df2.head()"
      ]
    },
    {
      "cell_type": "code",
      "execution_count": null,
      "metadata": {
        "colab": {
          "base_uri": "https://localhost:8080/",
          "height": 206
        },
        "id": "NVNgtlh3UkHl",
        "outputId": "f29ed654-3aa8-42cf-b8a3-3a4f8d35a7f9"
      },
      "outputs": [
        {
          "data": {
            "text/html": [
              "\n",
              "  <div id=\"df-8a5b634d-3537-4a9e-b42f-3f71cdbe19d8\">\n",
              "    <div class=\"colab-df-container\">\n",
              "      <div>\n",
              "<style scoped>\n",
              "    .dataframe tbody tr th:only-of-type {\n",
              "        vertical-align: middle;\n",
              "    }\n",
              "\n",
              "    .dataframe tbody tr th {\n",
              "        vertical-align: top;\n",
              "    }\n",
              "\n",
              "    .dataframe thead th {\n",
              "        text-align: right;\n",
              "    }\n",
              "</style>\n",
              "<table border=\"1\" class=\"dataframe\">\n",
              "  <thead>\n",
              "    <tr style=\"text-align: right;\">\n",
              "      <th></th>\n",
              "      <th>Los Angeles</th>\n",
              "    </tr>\n",
              "  </thead>\n",
              "  <tbody>\n",
              "    <tr>\n",
              "      <th>1</th>\n",
              "      <td>18.720000</td>\n",
              "    </tr>\n",
              "    <tr>\n",
              "      <th>2</th>\n",
              "      <td>18.718186</td>\n",
              "    </tr>\n",
              "    <tr>\n",
              "      <th>3</th>\n",
              "      <td>18.712844</td>\n",
              "    </tr>\n",
              "    <tr>\n",
              "      <th>4</th>\n",
              "      <td>18.707503</td>\n",
              "    </tr>\n",
              "    <tr>\n",
              "      <th>5</th>\n",
              "      <td>18.702162</td>\n",
              "    </tr>\n",
              "  </tbody>\n",
              "</table>\n",
              "</div>\n",
              "      <button class=\"colab-df-convert\" onclick=\"convertToInteractive('df-8a5b634d-3537-4a9e-b42f-3f71cdbe19d8')\"\n",
              "              title=\"Convert this dataframe to an interactive table.\"\n",
              "              style=\"display:none;\">\n",
              "        \n",
              "  <svg xmlns=\"http://www.w3.org/2000/svg\" height=\"24px\"viewBox=\"0 0 24 24\"\n",
              "       width=\"24px\">\n",
              "    <path d=\"M0 0h24v24H0V0z\" fill=\"none\"/>\n",
              "    <path d=\"M18.56 5.44l.94 2.06.94-2.06 2.06-.94-2.06-.94-.94-2.06-.94 2.06-2.06.94zm-11 1L8.5 8.5l.94-2.06 2.06-.94-2.06-.94L8.5 2.5l-.94 2.06-2.06.94zm10 10l.94 2.06.94-2.06 2.06-.94-2.06-.94-.94-2.06-.94 2.06-2.06.94z\"/><path d=\"M17.41 7.96l-1.37-1.37c-.4-.4-.92-.59-1.43-.59-.52 0-1.04.2-1.43.59L10.3 9.45l-7.72 7.72c-.78.78-.78 2.05 0 2.83L4 21.41c.39.39.9.59 1.41.59.51 0 1.02-.2 1.41-.59l7.78-7.78 2.81-2.81c.8-.78.8-2.07 0-2.86zM5.41 20L4 18.59l7.72-7.72 1.47 1.35L5.41 20z\"/>\n",
              "  </svg>\n",
              "      </button>\n",
              "      \n",
              "  <style>\n",
              "    .colab-df-container {\n",
              "      display:flex;\n",
              "      flex-wrap:wrap;\n",
              "      gap: 12px;\n",
              "    }\n",
              "\n",
              "    .colab-df-convert {\n",
              "      background-color: #E8F0FE;\n",
              "      border: none;\n",
              "      border-radius: 50%;\n",
              "      cursor: pointer;\n",
              "      display: none;\n",
              "      fill: #1967D2;\n",
              "      height: 32px;\n",
              "      padding: 0 0 0 0;\n",
              "      width: 32px;\n",
              "    }\n",
              "\n",
              "    .colab-df-convert:hover {\n",
              "      background-color: #E2EBFA;\n",
              "      box-shadow: 0px 1px 2px rgba(60, 64, 67, 0.3), 0px 1px 3px 1px rgba(60, 64, 67, 0.15);\n",
              "      fill: #174EA6;\n",
              "    }\n",
              "\n",
              "    [theme=dark] .colab-df-convert {\n",
              "      background-color: #3B4455;\n",
              "      fill: #D2E3FC;\n",
              "    }\n",
              "\n",
              "    [theme=dark] .colab-df-convert:hover {\n",
              "      background-color: #434B5C;\n",
              "      box-shadow: 0px 1px 3px 1px rgba(0, 0, 0, 0.15);\n",
              "      filter: drop-shadow(0px 1px 2px rgba(0, 0, 0, 0.3));\n",
              "      fill: #FFFFFF;\n",
              "    }\n",
              "  </style>\n",
              "\n",
              "      <script>\n",
              "        const buttonEl =\n",
              "          document.querySelector('#df-8a5b634d-3537-4a9e-b42f-3f71cdbe19d8 button.colab-df-convert');\n",
              "        buttonEl.style.display =\n",
              "          google.colab.kernel.accessAllowed ? 'block' : 'none';\n",
              "\n",
              "        async function convertToInteractive(key) {\n",
              "          const element = document.querySelector('#df-8a5b634d-3537-4a9e-b42f-3f71cdbe19d8');\n",
              "          const dataTable =\n",
              "            await google.colab.kernel.invokeFunction('convertToInteractive',\n",
              "                                                     [key], {});\n",
              "          if (!dataTable) return;\n",
              "\n",
              "          const docLinkHtml = 'Like what you see? Visit the ' +\n",
              "            '<a target=\"_blank\" href=https://colab.research.google.com/notebooks/data_table.ipynb>data table notebook</a>'\n",
              "            + ' to learn more about interactive tables.';\n",
              "          element.innerHTML = '';\n",
              "          dataTable['output_type'] = 'display_data';\n",
              "          await google.colab.output.renderOutput(dataTable, element);\n",
              "          const docLink = document.createElement('div');\n",
              "          docLink.innerHTML = docLinkHtml;\n",
              "          element.appendChild(docLink);\n",
              "        }\n",
              "      </script>\n",
              "    </div>\n",
              "  </div>\n",
              "  "
            ],
            "text/plain": [
              "   Los Angeles\n",
              "1    18.720000\n",
              "2    18.718186\n",
              "3    18.712844\n",
              "4    18.707503\n",
              "5    18.702162"
            ]
          },
          "execution_count": 6,
          "metadata": {},
          "output_type": "execute_result"
        }
      ],
      "source": [
        "df = df2[['Los Angeles']].copy()\n",
        "df = df.dropna()\n",
        "df = df.apply(lambda x: x-273.15)\n",
        "df.head()"
      ]
    },
    {
      "cell_type": "code",
      "execution_count": null,
      "metadata": {
        "colab": {
          "base_uri": "https://localhost:8080/",
          "height": 469
        },
        "id": "SRVwouZ-UlBr",
        "outputId": "e7710014-2abf-4b98-f42e-e1c6b1f5b11b"
      },
      "outputs": [
        {
          "data": {
            "text/plain": [
              "array([[<Axes: title={'center': 'Los Angeles'}>]], dtype=object)"
            ]
          },
          "execution_count": 7,
          "metadata": {},
          "output_type": "execute_result"
        },
        {
          "data": {
            "image/png": "[encoded data removed]",
            "text/plain": [
              "<Figure size 640x480 with 1 Axes>"
            ]
          },
          "metadata": {},
          "output_type": "display_data"
        }
      ],
      "source": [
        "df.hist()"
      ]
    },
    {
      "cell_type": "code",
      "execution_count": null,
      "metadata": {
        "colab": {
          "base_uri": "https://localhost:8080/",
          "height": 447
        },
        "id": "13i_WpK-UnVk",
        "outputId": "f5a193d2-c56f-4d6a-b42c-0b413b0a678f"
      },
      "outputs": [
        {
          "data": {
            "text/plain": [
              "[<matplotlib.lines.Line2D at 0x7f9b6079f670>]"
            ]
          },
          "execution_count": 8,
          "metadata": {},
          "output_type": "execute_result"
        },
        {
          "data": {
            "image/png": "[encoded data removed]",
            "text/plain": [
              "<Figure size 640x480 with 1 Axes>"
            ]
          },
          "metadata": {},
          "output_type": "display_data"
        }
      ],
      "source": [
        "plt.plot(df.values)"
      ]
    },
    {
      "cell_type": "code",
      "execution_count": null,
      "metadata": {
        "id": "gY1WPzHAUsZW"
      },
      "outputs": [],
      "source": [
        "input_size = 24"
      ]
    },
    {
      "cell_type": "code",
      "execution_count": null,
      "metadata": {
        "id": "J6TRZw4QUuDg"
      },
      "outputs": [],
      "source": [
        "def prepare_data(data, input_size):\n",
        "    x, y = [], []\n",
        "    for i in range(len(data)-input_size-1):\n",
        "        x.append(data[i:(i+input_size)])\n",
        "        y.append(data[i+input_size])\n",
        "    return np.array(x), np.array(y)"
      ]
    },
    {
      "cell_type": "code",
      "execution_count": null,
      "metadata": {
        "id": "zM_3HPEzUvmN"
      },
      "outputs": [],
      "source": [
        "data = df.to_numpy(copy=True)\n",
        "data = np.squeeze(data)\n",
        "x, y = prepare_data(data, input_size)\n",
        "\n",
        "train_size = int(len(x) * 0.8)\n",
        "x_train, x_test = x[:train_size], x[train_size:]\n",
        "y_train, y_test = y[:train_size], y[train_size:]"
      ]
    },
    {
      "cell_type": "code",
      "execution_count": null,
      "metadata": {
        "id": "wzbHn17WVMG6"
      },
      "outputs": [],
      "source": [
        "EarlyStop = EarlyStopping(monitor='val_loss', \n",
        "                          patience=5,\n",
        "                          verbose=1)"
      ]
    },
    {
      "cell_type": "code",
      "execution_count": null,
      "metadata": {
        "id": "THqi8bR2j6jd"
      },
      "outputs": [],
      "source": [
        "model = Sequential()\n",
        "model.add(LSTM(64, input_shape=(input_size, 1)))\n",
        "model.add(Dense(1, activation='linear'))\n",
        "\n",
        "model.compile(optimizer='adam', loss='mse', metrics=[RootMeanSquaredError()])\n"
      ]
    },
    {
      "cell_type": "code",
      "execution_count": null,
      "metadata": {
        "colab": {
          "base_uri": "https://localhost:8080/"
        },
        "id": "nSxv_rhPkHZX",
        "outputId": "155c298f-978f-4138-ce24-b06fcb723df0"
      },
      "outputs": [
        {
          "name": "stdout",
          "output_type": "stream",
          "text": [
            "Epoch 1/50\n",
            "1131/1131 [==============================] - 25s 20ms/step - loss: 24.4845 - root_mean_squared_error: 4.9482 - val_loss: 1.2896 - val_root_mean_squared_error: 1.1356\n",
            "Epoch 2/50\n",
            "1131/1131 [==============================] - 29s 26ms/step - loss: 1.8201 - root_mean_squared_error: 1.3491 - val_loss: 0.7653 - val_root_mean_squared_error: 0.8748\n",
            "Epoch 3/50\n",
            "1131/1131 [==============================] - 19s 17ms/step - loss: 1.5596 - root_mean_squared_error: 1.2488 - val_loss: 0.7334 - val_root_mean_squared_error: 0.8564\n",
            "Epoch 4/50\n",
            "1131/1131 [==============================] - 18s 16ms/step - loss: 1.4905 - root_mean_squared_error: 1.2209 - val_loss: 0.7037 - val_root_mean_squared_error: 0.8389\n",
            "Epoch 5/50\n",
            "1131/1131 [==============================] - 18s 16ms/step - loss: 1.4492 - root_mean_squared_error: 1.2038 - val_loss: 0.6045 - val_root_mean_squared_error: 0.7775\n",
            "Epoch 6/50\n",
            "1131/1131 [==============================] - 21s 18ms/step - loss: 1.4032 - root_mean_squared_error: 1.1846 - val_loss: 0.7816 - val_root_mean_squared_error: 0.8841\n",
            "Epoch 7/50\n",
            "1131/1131 [==============================] - 19s 17ms/step - loss: 1.3386 - root_mean_squared_error: 1.1570 - val_loss: 0.6731 - val_root_mean_squared_error: 0.8204\n",
            "Epoch 8/50\n",
            "1131/1131 [==============================] - 19s 17ms/step - loss: 1.2986 - root_mean_squared_error: 1.1396 - val_loss: 0.6023 - val_root_mean_squared_error: 0.7761\n",
            "Epoch 9/50\n",
            "1131/1131 [==============================] - 19s 17ms/step - loss: 1.2790 - root_mean_squared_error: 1.1309 - val_loss: 0.6034 - val_root_mean_squared_error: 0.7768\n",
            "Epoch 10/50\n",
            "1131/1131 [==============================] - 19s 17ms/step - loss: 1.2429 - root_mean_squared_error: 1.1149 - val_loss: 0.6033 - val_root_mean_squared_error: 0.7768\n",
            "Epoch 11/50\n",
            "1131/1131 [==============================] - 18s 16ms/step - loss: 1.2204 - root_mean_squared_error: 1.1047 - val_loss: 0.5932 - val_root_mean_squared_error: 0.7702\n",
            "Epoch 12/50\n",
            "1131/1131 [==============================] - 20s 18ms/step - loss: 1.2014 - root_mean_squared_error: 1.0961 - val_loss: 0.6188 - val_root_mean_squared_error: 0.7866\n",
            "Epoch 13/50\n",
            "1131/1131 [==============================] - 19s 17ms/step - loss: 1.1878 - root_mean_squared_error: 1.0899 - val_loss: 0.5404 - val_root_mean_squared_error: 0.7351\n",
            "Epoch 14/50\n",
            "1131/1131 [==============================] - 20s 18ms/step - loss: 1.1690 - root_mean_squared_error: 1.0812 - val_loss: 0.5923 - val_root_mean_squared_error: 0.7696\n",
            "Epoch 15/50\n",
            "1131/1131 [==============================] - 18s 16ms/step - loss: 1.1551 - root_mean_squared_error: 1.0748 - val_loss: 0.6180 - val_root_mean_squared_error: 0.7861\n",
            "Epoch 16/50\n",
            "1131/1131 [==============================] - 20s 17ms/step - loss: 1.1411 - root_mean_squared_error: 1.0682 - val_loss: 0.5771 - val_root_mean_squared_error: 0.7597\n",
            "Epoch 17/50\n",
            "1131/1131 [==============================] - 18s 16ms/step - loss: 1.1325 - root_mean_squared_error: 1.0642 - val_loss: 0.5645 - val_root_mean_squared_error: 0.7513\n",
            "Epoch 18/50\n",
            "1131/1131 [==============================] - 19s 17ms/step - loss: 1.1096 - root_mean_squared_error: 1.0534 - val_loss: 0.6435 - val_root_mean_squared_error: 0.8022\n",
            "Epoch 18: early stopping\n"
          ]
        }
      ],
      "source": [
        "history = model.fit(x_train, y_train, epochs=50, batch_size=32, validation_data=(x_test, y_test), callbacks=[EarlyStop])\n"
      ]
    },
    {
      "cell_type": "code",
      "execution_count": null,
      "metadata": {
        "colab": {
          "base_uri": "https://localhost:8080/"
        },
        "id": "b63mEclak2ZI",
        "outputId": "d1a63d1c-5ff4-46ea-c58c-065b0caa676a"
      },
      "outputs": [
        {
          "name": "stdout",
          "output_type": "stream",
          "text": [
            "Epoch 1/50\n",
            "1131/1131 [==============================] - 19s 16ms/step - loss: 1.0914 - root_mean_squared_error: 1.0447 - val_loss: 0.5551 - val_root_mean_squared_error: 0.7450\n",
            "Epoch 2/50\n",
            "1131/1131 [==============================] - 19s 17ms/step - loss: 1.0892 - root_mean_squared_error: 1.0437 - val_loss: 0.5219 - val_root_mean_squared_error: 0.7224\n",
            "Epoch 3/50\n",
            "1131/1131 [==============================] - 20s 18ms/step - loss: 1.0652 - root_mean_squared_error: 1.0321 - val_loss: 0.5536 - val_root_mean_squared_error: 0.7440\n",
            "Epoch 4/50\n",
            "1131/1131 [==============================] - 18s 16ms/step - loss: 1.0615 - root_mean_squared_error: 1.0303 - val_loss: 0.5315 - val_root_mean_squared_error: 0.7290\n",
            "Epoch 5/50\n",
            "1131/1131 [==============================] - 21s 18ms/step - loss: 1.0347 - root_mean_squared_error: 1.0172 - val_loss: 0.5925 - val_root_mean_squared_error: 0.7697\n",
            "Epoch 6/50\n",
            "1131/1131 [==============================] - 18s 16ms/step - loss: 1.0450 - root_mean_squared_error: 1.0222 - val_loss: 0.5351 - val_root_mean_squared_error: 0.7315\n",
            "Epoch 7/50\n",
            "1131/1131 [==============================] - 21s 18ms/step - loss: 1.0152 - root_mean_squared_error: 1.0076 - val_loss: 0.5289 - val_root_mean_squared_error: 0.7273\n",
            "Epoch 7: early stopping\n"
          ]
        }
      ],
      "source": [
        "history = model.fit(x_train, y_train, epochs=50, batch_size=32, validation_data=(x_test, y_test), callbacks=[EarlyStop])\n"
      ]
    },
    {
      "cell_type": "code",
      "execution_count": null,
      "metadata": {
        "id": "UlGaDcPXVRu0"
      },
      "outputs": [],
      "source": [
        "def predict_four_days(test):\n",
        "  predictions = []\n",
        "  for _ in range(4):\n",
        "    pred = model.predict(test)\n",
        "    predictions.extend(pred)\n",
        "    test = np.delete(test,0)\n",
        "    test = np.append(test, pred)\n",
        "    test = np.array([test])\n",
        "  return predictions"
      ]
    },
    {
      "cell_type": "code",
      "execution_count": null,
      "metadata": {
        "colab": {
          "base_uri": "https://localhost:8080/"
        },
        "id": "wlURBCghmbcd",
        "outputId": "6c9faf5c-4393-47af-f1ef-087fb74d0f42"
      },
      "outputs": [
        {
          "name": "stdout",
          "output_type": "stream",
          "text": [
            "1/1 [==============================] - 1s 531ms/step\n",
            "1/1 [==============================] - 0s 38ms/step\n",
            "1/1 [==============================] - 0s 40ms/step\n",
            "1/1 [==============================] - 0s 36ms/step\n"
          ]
        },
        {
          "data": {
            "text/plain": [
              "[array([16.23844], dtype=float32),\n",
              " array([15.2600765], dtype=float32),\n",
              " array([14.551428], dtype=float32),\n",
              " array([13.968699], dtype=float32)]"
            ]
          },
          "execution_count": 23,
          "metadata": {},
          "output_type": "execute_result"
        }
      ],
      "source": [
        "p = predict_four_days(x_test[0, np.newaxis])\n",
        "p"
      ]
    },
    {
      "cell_type": "code",
      "execution_count": null,
      "metadata": {
        "id": "KRj3mvsDni8A"
      },
      "outputs": [],
      "source": [
        "input_size = 24\n",
        "model = Sequential()\n",
        "model.add(GRU(32, input_shape=(input_size, 1)))\n",
        "model.add(Dense(1))\n",
        "model.compile(optimizer='adam', loss='mse', metrics=[RootMeanSquaredError()])#'accuracy'"
      ]
    },
    {
      "cell_type": "code",
      "execution_count": null,
      "metadata": {
        "colab": {
          "base_uri": "https://localhost:8080/"
        },
        "id": "V--PAGM4nk0y",
        "outputId": "92627203-0a9d-4f30-cc38-90636ac56957"
      },
      "outputs": [
        {
          "name": "stdout",
          "output_type": "stream",
          "text": [
            "Epoch 1/50\n",
            "2262/2262 [==============================] - 41s 17ms/step - loss: 30.2819 - accuracy: 0.0000e+00 - val_loss: 1.8388 - val_accuracy: 0.0000e+00\n",
            "Epoch 2/50\n",
            "2262/2262 [==============================] - 35s 15ms/step - loss: 2.1412 - accuracy: 0.0000e+00 - val_loss: 0.7928 - val_accuracy: 0.0000e+00\n",
            "Epoch 3/50\n",
            "2262/2262 [==============================] - 34s 15ms/step - loss: 1.5854 - accuracy: 0.0000e+00 - val_loss: 0.7644 - val_accuracy: 0.0000e+00\n",
            "Epoch 4/50\n",
            "2262/2262 [==============================] - 34s 15ms/step - loss: 1.4820 - accuracy: 0.0000e+00 - val_loss: 0.7210 - val_accuracy: 0.0000e+00\n",
            "Epoch 5/50\n",
            "2262/2262 [==============================] - 34s 15ms/step - loss: 1.4166 - accuracy: 0.0000e+00 - val_loss: 0.6349 - val_accuracy: 0.0000e+00\n",
            "Epoch 6/50\n",
            "2262/2262 [==============================] - 34s 15ms/step - loss: 1.3780 - accuracy: 0.0000e+00 - val_loss: 0.6798 - val_accuracy: 0.0000e+00\n",
            "Epoch 7/50\n",
            "2262/2262 [==============================] - 35s 16ms/step - loss: 1.3572 - accuracy: 0.0000e+00 - val_loss: 0.6105 - val_accuracy: 0.0000e+00\n",
            "Epoch 8/50\n",
            "2262/2262 [==============================] - 34s 15ms/step - loss: 1.3117 - accuracy: 0.0000e+00 - val_loss: 0.6377 - val_accuracy: 0.0000e+00\n",
            "Epoch 9/50\n",
            "2262/2262 [==============================] - 35s 16ms/step - loss: 1.2874 - accuracy: 0.0000e+00 - val_loss: 0.7348 - val_accuracy: 0.0000e+00\n",
            "Epoch 10/50\n",
            "2262/2262 [==============================] - 36s 16ms/step - loss: 1.2559 - accuracy: 0.0000e+00 - val_loss: 0.6302 - val_accuracy: 0.0000e+00\n",
            "Epoch 11/50\n",
            "2262/2262 [==============================] - 35s 15ms/step - loss: 1.2406 - accuracy: 0.0000e+00 - val_loss: 0.5889 - val_accuracy: 0.0000e+00\n",
            "Epoch 12/50\n",
            "2262/2262 [==============================] - 35s 16ms/step - loss: 1.2253 - accuracy: 0.0000e+00 - val_loss: 0.6486 - val_accuracy: 0.0000e+00\n",
            "Epoch 13/50\n",
            "2262/2262 [==============================] - 35s 15ms/step - loss: 1.1963 - accuracy: 0.0000e+00 - val_loss: 0.7635 - val_accuracy: 0.0000e+00\n",
            "Epoch 14/50\n",
            "2262/2262 [==============================] - 35s 16ms/step - loss: 1.1833 - accuracy: 0.0000e+00 - val_loss: 0.6121 - val_accuracy: 0.0000e+00\n",
            "Epoch 15/50\n",
            "2262/2262 [==============================] - 35s 16ms/step - loss: 1.1651 - accuracy: 0.0000e+00 - val_loss: 0.6435 - val_accuracy: 0.0000e+00\n",
            "Epoch 16/50\n",
            "2262/2262 [==============================] - 37s 16ms/step - loss: 1.1481 - accuracy: 0.0000e+00 - val_loss: 0.6423 - val_accuracy: 0.0000e+00\n",
            "Epoch 16: early stopping\n"
          ]
        }
      ],
      "source": [
        "history = model.fit(x_train, y_train, epochs=50, batch_size=16, validation_data=(x_test, y_test), callbacks=[EarlyStop])"
      ]
    },
    {
      "cell_type": "code",
      "execution_count": null,
      "metadata": {
        "colab": {
          "base_uri": "https://localhost:8080/"
        },
        "id": "8LDrCH0zn7PP",
        "outputId": "dd1b2588-1c34-4f8e-c2e1-25f92a880b41"
      },
      "outputs": [
        {
          "name": "stdout",
          "output_type": "stream",
          "text": [
            "1/1 [==============================] - 0s 38ms/step\n",
            "1/1 [==============================] - 0s 35ms/step\n",
            "1/1 [==============================] - 0s 38ms/step\n",
            "1/1 [==============================] - 0s 36ms/step\n"
          ]
        },
        {
          "data": {
            "text/plain": [
              "[array([1.], dtype=float32),\n",
              " array([0.9999877], dtype=float32),\n",
              " array([0.99942046], dtype=float32),\n",
              " array([-0.3254107], dtype=float32)]"
            ]
          },
          "execution_count": 21,
          "metadata": {},
          "output_type": "execute_result"
        }
      ],
      "source": [
        "p = predict_four_days(x_test[0, np.newaxis])\n",
        "p"
      ]
    },
    {
      "cell_type": "code",
      "execution_count": null,
      "metadata": {
        "id": "s2dTOAabG57i"
      },
      "outputs": [],
      "source": [
        "#rysowanie procesu uczenia\n",
        "def draw_curves(history, key1='accuracy'):\n",
        "    plt.figure(figsize=(12,6))\n",
        "    plt.plot(history.history[key1], \"r--\")\n",
        "    plt.plot(history.history['val_' + key1], \"g--\")\n",
        "    plt.ylabel(key1)\n",
        "    plt.xlabel('Epoch')\n",
        "    plt.legend(['train', 'test'], loc='best')\n",
        " \n",
        "    plt.show()"
      ]
    },
    {
      "cell_type": "code",
      "execution_count": null,
      "metadata": {
        "colab": {
          "base_uri": "https://localhost:8080/",
          "height": 542
        },
        "id": "_Uk6DWSjJcYx",
        "outputId": "525f20b0-3b75-4aab-962f-907c36c992f1"
      },
      "outputs": [
        {
          "data": {
            "image/png": "[encoded data removed]",
            "text/plain": [
              "<Figure size 1200x600 with 1 Axes>"
            ]
          },
          "metadata": {},
          "output_type": "display_data"
        }
      ],
      "source": [
        "#proces uczenia danych testowych i treningowych dla sieci LSTM\n",
        "draw_curves(history, key1='root_mean_squared_error')"
      ]
    },
    {
      "cell_type": "code",
      "execution_count": null,
      "metadata": {
        "colab": {
          "base_uri": "https://localhost:8080/"
        },
        "id": "cI1R75-dIjxv",
        "outputId": "ce73e745-16ed-445b-dc32-06830ea5a636"
      },
      "outputs": [
        {
          "name": "stdout",
          "output_type": "stream",
          "text": [
            "Evaluate on test data\n",
            "71/71 [==============================] - 1s 14ms/step - loss: 0.5289 - root_mean_squared_error: 0.7273\n",
            "test loss, test accuracy: [0.5289167165756226, 0.7272666096687317]\n"
          ]
        }
      ],
      "source": [
        "print(\"Evaluate on test data\")\n",
        "results = model.evaluate(x_test, y_test, batch_size=128)\n",
        "print(\"test loss, test accuracy:\", results)"
      ]
    },
    {
      "cell_type": "code",
      "execution_count": null,
      "metadata": {
        "colab": {
          "base_uri": "https://localhost:8080/"
        },
        "id": "PoDG9P4YMjBb",
        "outputId": "0f564259-d838-4876-8fd5-94b62cead21e"
      },
      "outputs": [
        {
          "name": "stdout",
          "output_type": "stream",
          "text": [
            "RMSE:0.9208787704212431\n",
            "MSE:0.8480177098125405\n"
          ]
        }
      ],
      "source": [
        "#Miary dla modelu z siecię LSTM\n",
        "print (\"RMSE:\" +str(np.sqrt(mean_squared_error(y_test[:4], p))))\n",
        "print (\"MSE:\" +str((mean_squared_error(y_test[:4], p))))\n"
      ]
    },
    {
      "cell_type": "code",
      "execution_count": null,
      "metadata": {
        "colab": {
          "base_uri": "https://localhost:8080/"
        },
        "id": "fouswoEGNNhq",
        "outputId": "af47ede7-fb8f-4f6a-a757-cc6baf9ccc95"
      },
      "outputs": [
        {
          "name": "stdout",
          "output_type": "stream",
          "text": [
            "MAE: 1.1597635555267516\n",
            "Ia: 0.41865294250124707\n"
          ]
        }
      ],
      "source": [
        "print (\"MAE: \" +str(np.mean(abs(y_test[:4]-p))))\n",
        "ia = (1 -(np.sum((p-y_test[:4])**2))/(np.sum((np.abs(y_test[:4]-np.mean(p))+np.abs(p-np.mean(p)))**2)))\n",
        "print (\"Ia: \" +str(ia))"
      ]
    },
    {
      "cell_type": "code",
      "execution_count": null,
      "metadata": {
        "colab": {
          "base_uri": "https://localhost:8080/"
        },
        "id": "wRXPx0hVOdcH",
        "outputId": "23b10303-2017-4345-c5c4-92d341ea31f8"
      },
      "outputs": [
        {
          "name": "stdout",
          "output_type": "stream",
          "text": [
            "R^2: -0.18352141432977231\n"
          ]
        }
      ],
      "source": [
        "print (\"R^2: \" +str(r2_score(p, y_test[:4])))"
      ]
    },
    {
      "cell_type": "code",
      "execution_count": null,
      "metadata": {
        "colab": {
          "base_uri": "https://localhost:8080/",
          "height": 472
        },
        "id": "BhhxAPCLOeag",
        "outputId": "e6403011-1e3c-43bd-e35a-99d95f9cb38a"
      },
      "outputs": [
        {
          "data": {
            "image/png": "[encoded data removed]",
            "text/plain": [
              "<Figure size 640x480 with 1 Axes>"
            ]
          },
          "metadata": {},
          "output_type": "display_data"
        }
      ],
      "source": [
        "plt.scatter(['tomorrow','next day1','next day2','next day3'] ,y_test[:4], color='black')\n",
        "plt.scatter(['tomorrow','next day1','next day2','next day3'],p , color='red')\n",
        "plt.title('Predictions weather vs True values')\n",
        "plt.ylabel('Temperature')\n",
        "plt.xlabel('Days')\n",
        "plt.legend(['pred', 'true'], loc='best')\n",
        "plt.show()"
      ]
    },
    {
      "cell_type": "code",
      "execution_count": null,
      "metadata": {
        "colab": {
          "base_uri": "https://localhost:8080/",
          "height": 472
        },
        "id": "Dv7OM5avPmmC",
        "outputId": "c3e056d2-d127-448e-84ca-62202ce7d831"
      },
      "outputs": [
        {
          "data": {
            "image/png": "[encoded data removed]",
            "text/plain": [
              "<Figure size 640x480 with 1 Axes>"
            ]
          },
          "metadata": {},
          "output_type": "display_data"
        }
      ],
      "source": [
        "plt.plot(['tomorrow','next day1','next day2','next day3'] ,y_test[:4], color='black')\n",
        "plt.plot(['tomorrow','next day1','next day2','next day3'],p , color='red')\n",
        "plt.title('Predictions weather vs True values - linear')\n",
        "plt.ylabel('Temperature')\n",
        "plt.xlabel('Days')\n",
        "plt.legend(['pred', 'true'], loc='best')\n",
        "plt.show()"
      ]
    },
    {
      "cell_type": "code",
      "execution_count": null,
      "metadata": {
        "colab": {
          "base_uri": "https://localhost:8080/",
          "height": 469
        },
        "id": "R-8C3cYDur2u",
        "outputId": "a610eaa0-da31-4f71-a1aa-12a01d80f6e5"
      },
      "outputs": [
        {
          "name": "stdout",
          "output_type": "stream",
          "text": [
            "283/283 [==============================] - 2s 6ms/step\n"
          ]
        },
        {
          "data": {
            "image/png": "[encoded data removed]",
            "text/plain": [
              "<Figure size 640x480 with 1 Axes>"
            ]
          },
          "metadata": {},
          "output_type": "display_data"
        }
      ],
      "source": [
        "#dla całego modelu porównanie\n",
        "predictions = model.predict(x_test)\n",
        "\n",
        "plt.plot(y_test, label='True values')\n",
        "plt.plot(predictions, label='Predictions')\n",
        "\n",
        "plt.title('Predictions vs True values')\n",
        "plt.legend()\n",
        "plt.show()"
      ]
    }
  ],
  "metadata": {
    "colab": {
      "provenance": []
    },
    "kernelspec": {
      "display_name": "Python 3",
      "name": "python3"
    },
    "language_info": {
      "name": "python"
    }
  },
  "nbformat": 4,
  "nbformat_minor": 0
}
